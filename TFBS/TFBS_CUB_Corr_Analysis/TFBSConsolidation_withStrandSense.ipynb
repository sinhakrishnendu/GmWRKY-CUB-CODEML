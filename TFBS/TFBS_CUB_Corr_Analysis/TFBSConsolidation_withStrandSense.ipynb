{
 "cells": [
  {
   "cell_type": "code",
   "execution_count": 1,
   "metadata": {},
   "outputs": [],
   "source": [
    "import pandas as pd\n",
    "from scipy.stats import spearmanr\n",
    "import seaborn as sns\n",
    "import matplotlib.pyplot as plt"
   ]
  },
  {
   "cell_type": "code",
   "execution_count": 2,
   "metadata": {},
   "outputs": [],
   "source": [
    "#loading the raw fimo output to a dataframe\n",
    "df = pd.read_csv(\"fimo.tsv\",delimiter='\\t')"
   ]
  },
  {
   "cell_type": "code",
   "execution_count": 3,
   "metadata": {},
   "outputs": [],
   "source": [
    "#defining function to find overlapping regions\n",
    "def find_overlapping_intervals(start_pos, end_pos):\n",
    "    if len(start_pos) == 0:\n",
    "        return []\n",
    "    \n",
    "    # Create DataFrame from the input lists\n",
    "    intervals = pd.DataFrame({\n",
    "        'Start': start_pos,\n",
    "        'End': end_pos\n",
    "    })\n",
    "    \n",
    "    # Sort intervals by start position\n",
    "    intervals = intervals.sort_values(by='Start').reset_index(drop=True)\n",
    "    \n",
    "    results = []\n",
    "    current_start = intervals.loc[0, 'Start']\n",
    "    current_end = intervals.loc[0, 'End']\n",
    "    \n",
    "    for i in range(1, len(intervals)):\n",
    "        next_start = intervals.loc[i, 'Start']\n",
    "        next_end = intervals.loc[i, 'End']\n",
    "        \n",
    "        if next_start <= current_end:\n",
    "            # Extend the current interval\n",
    "            current_end = max(current_end, next_end)\n",
    "        else:\n",
    "            # Record the non-overlapping interval\n",
    "            results.append((current_start, current_end))\n",
    "            current_start = next_start\n",
    "            current_end = next_end\n",
    "    \n",
    "    # Append the last interval\n",
    "    results.append((current_start, current_end))\n",
    "    \n",
    "    return results"
   ]
  },
  {
   "cell_type": "code",
   "execution_count": 4,
   "metadata": {},
   "outputs": [],
   "source": [
    "# Initialize output list\n",
    "output = []\n",
    "\n",
    "# Loop through each unique gene-TF-strand combination\n",
    "for (gene, tf, strand), subset_df in df.groupby(['sequence_name', 'motif_alt_id', 'strand']):\n",
    "    start_positions = subset_df['start'].tolist()\n",
    "    end_positions = subset_df['stop'].tolist()\n",
    "    \n",
    "    # Find overlapping intervals\n",
    "    overlapping_intervals = find_overlapping_intervals(start_positions, end_positions)\n",
    "    \n",
    "    # Add results to output\n",
    "    for start, end in overlapping_intervals:\n",
    "        output.append([gene, tf, start, end])\n",
    "\n",
    "# Convert to DataFrame\n",
    "output_df = pd.DataFrame(output, columns=['Gene', 'TF', 'Start', 'End'])\n",
    "\n",
    "# Output to .tsv and .xlsx files\n",
    "output_df.to_csv('fimo_consolidated_ss.tsv', sep='\\t', index=False)"
   ]
  },
  {
   "cell_type": "code",
   "execution_count": 5,
   "metadata": {},
   "outputs": [],
   "source": [
    "#contingency table\n",
    "df_play = pd.read_csv('fimo_consolidated_ss.tsv',delimiter='\\t')\n",
    "df_play.fillna('NA',inplace=True)\n",
    "cont_table_fimo = pd.crosstab(df_play['Gene'],df_play['TF'])#, margins=True)\n",
    "cont_table_fimo.to_csv('contingency_fimo.tsv',sep='\\t')"
   ]
  },
  {
   "cell_type": "code",
   "execution_count": 6,
   "metadata": {},
   "outputs": [
    {
     "name": "stdout",
     "output_type": "stream",
     "text": [
      "Merging completed. Final data saved to 'contingency_fimo_cub.tsv'.\n"
     ]
    }
   ],
   "source": [
    "#mapping CUB data to the contingency table\n",
    "# Load the contingency table file\n",
    "cont_table_fimo = pd.read_csv('contingency_fimo.tsv', sep='\\t')\n",
    "\n",
    "# Load the .xlsx file containing CAI and Nc data, but only select the 'Name', 'CAI', and 'Nc' columns\n",
    "cai_nc_data = pd.read_excel('CUBIndices.xlsx', usecols=['Name', 'CAI', 'Nc'])\n",
    "\n",
    "# Merge both files based on the gene ids\n",
    "# Assuming 'Gene' is the common column in the .tsv file and 'Name' in the .xlsx file\n",
    "merged_data = pd.merge(cont_table_fimo, cai_nc_data, left_on='Gene', right_on='Name')\n",
    "\n",
    "# Drop the 'Name' column from the final result (keeping only 'Gene')\n",
    "merged_data = merged_data.drop(columns=['Name'])\n",
    "\n",
    "# Save the final merged data into a new .tsv file\n",
    "merged_data.to_csv('contingency_fimo_cub.tsv', sep='\\t', index=False)\n",
    "\n",
    "print(\"Merging completed. Final data saved to 'contingency_fimo_cub.tsv'.\")\n"
   ]
  },
  {
   "cell_type": "code",
   "execution_count": 16,
   "metadata": {},
   "outputs": [
    {
     "name": "stdout",
     "output_type": "stream",
     "text": [
      "All significant results saved to 'tfbs_cub_corr_all_output.tsv' and 'tfbs_cub_corr_all_output.xlsx'.\n",
      "Common significant results saved to 'tfbs_cub_corr_common_output.tsv' and 'tfbs_cub_corr_common_output.xlsx'.\n"
     ]
    }
   ],
   "source": [
    "# Load the final TSV file\n",
    "data = pd.read_csv('contingency_fimo_cub.tsv', sep='\\t')\n",
    "\n",
    "# Select only TF columns by excluding 'Gene', 'CAI', and 'Nc'\n",
    "tf_columns = data.drop(columns=['Gene', 'CAI', 'Nc']).columns\n",
    "\n",
    "# Function to calculate and return significant Spearman correlations (p < 0.05)\n",
    "def find_significant_correlations(target):\n",
    "    significant_results = {}\n",
    "    for tf in tf_columns:\n",
    "        r_value, p_value = spearmanr(data[tf], data[target], nan_policy='omit')\n",
    "        if p_value < 0.05:  # Check for significance\n",
    "            significant_results[tf] = {'R_value': r_value, 'P_value': p_value}\n",
    "    return significant_results\n",
    "\n",
    "# Get significant correlations for both CAI and Nc\n",
    "significant_cai = find_significant_correlations('CAI')\n",
    "significant_nc = find_significant_correlations('Nc')\n",
    "\n",
    "# Combine all significant results into one DataFrame\n",
    "all_significant_results = []\n",
    "for tf in set(significant_cai.keys()).union(significant_nc.keys()):\n",
    "    all_significant_results.append({\n",
    "        'TF': tf,\n",
    "        'CAI_R_value': significant_cai.get(tf, {}).get('R_value', None),\n",
    "        'CAI_P_value': significant_cai.get(tf, {}).get('P_value', None),\n",
    "        'Nc_R_value': significant_nc.get(tf, {}).get('R_value', None),\n",
    "        'Nc_P_value': significant_nc.get(tf, {}).get('P_value', None)\n",
    "    })\n",
    "all_results_df = pd.DataFrame(all_significant_results)\n",
    "\n",
    "# Filter to get only TFs significant with both CAI and Nc\n",
    "common_tfs = set(significant_cai.keys()).intersection(set(significant_nc.keys()))\n",
    "common_results = [row for row in all_significant_results if row['TF'] in common_tfs]\n",
    "common_results_df = pd.DataFrame(common_results)\n",
    "\n",
    "# Save both results to .tsv and .xlsx files\n",
    "all_results_df.to_csv('tfbs_cub_corr_all_output.tsv', sep='\\t', index=False)\n",
    "all_results_df.to_excel('tfbs_cub_corr_all_output.xlsx', index=False)\n",
    "\n",
    "common_results_df.to_csv('tfbs_cub_corr_common_output.tsv', sep='\\t', index=False)\n",
    "common_results_df.to_excel('tfbs_cub_corr_common_output.xlsx', index=False)\n",
    "\n",
    "print(\"All significant results saved to 'tfbs_cub_corr_all_output.tsv' and 'tfbs_cub_corr_all_output.xlsx'.\")\n",
    "print(\"Common significant results saved to 'tfbs_cub_corr_common_output.tsv' and 'tfbs_cub_corr_common_output.xlsx'.\")\n"
   ]
  },
  {
   "cell_type": "code",
   "execution_count": 17,
   "metadata": {},
   "outputs": [
    {
     "name": "stdout",
     "output_type": "stream",
     "text": [
      "All significant TFs saved to 'tfbs_cub_all_significant_output.tsv' and 'tfbs_cub_all_significant_output.xlsx'.\n",
      "Common significant TFs saved to 'tfbs_cub_common_significant_output.tsv' and 'tfbs_cub_common_significant_output.xlsx'.\n"
     ]
    }
   ],
   "source": [
    "#extracting TFs based on significance\n",
    "# Combine all significant TFs (either CAI or Nc)\n",
    "all_significant_tfs = set(significant_cai).union(significant_nc)\n",
    "\n",
    "# Find TFs that are significant in both CAI and Nc\n",
    "common_significant_tfs = set(significant_cai).intersection(significant_nc)\n",
    "\n",
    "# Filter the original data for significant TFs + 'Gene', 'CAI', and 'Nc'\n",
    "all_significant_data = data[['Gene', 'CAI', 'Nc'] + list(all_significant_tfs)]\n",
    "common_significant_data = data[['Gene', 'CAI', 'Nc'] + list(common_significant_tfs)]\n",
    "# Filter the original data for significant TFs + 'Gene', 'CAI', and 'Nc'\n",
    "all_significant_data = data[['Gene', 'CAI', 'Nc'] + list(all_significant_tfs)]\n",
    "common_significant_data = data[['Gene', 'CAI', 'Nc'] + list(common_significant_tfs)]\n",
    "\n",
    "# Save the filtered data to .tsv and .xlsx files\n",
    "all_significant_data.to_csv('tfbs_cub_all_significant_output.tsv', sep='\\t', index=False)\n",
    "all_significant_data.to_excel('tfbs_cub_all_significant_output.xlsx', index=False)\n",
    "\n",
    "common_significant_data.to_csv('tfbs_cub_common_significant_output.tsv', sep='\\t', index=False)\n",
    "common_significant_data.to_excel('tfbs_cub_common_significant_output.xlsx', index=False)\n",
    "\n",
    "print(\"All significant TFs saved to 'tfbs_cub_all_significant_output.tsv' and 'tfbs_cub_all_significant_output.xlsx'.\")\n",
    "print(\"Common significant TFs saved to 'tfbs_cub_common_significant_output.tsv' and 'tfbs_cub_common_significant_output.xlsx'.\")"
   ]
  },
  {
   "cell_type": "code",
   "execution_count": 10,
   "metadata": {},
   "outputs": [
    {
     "data": {
      "text/plain": [
       "<Figure size 800x600 with 0 Axes>"
      ]
     },
     "metadata": {},
     "output_type": "display_data"
    },
    {
     "data": {
      "image/png": "[encoded data removed]",
      "text/plain": [
       "<Figure size 800x600 with 4 Axes>"
      ]
     },
     "metadata": {},
     "output_type": "display_data"
    }
   ],
   "source": [
    "#Output CI values\n",
    "\n",
    "# Function to calculate Fisher transformation and confidence interval\n",
    "def fisher_confidence_interval(r_value, n, confidence_level=0.95):\n",
    "    if abs(r_value) == 1:\n",
    "        return r_value, r_value  # Perfect correlation, no variance in CI\n",
    "    z = 0.5 * np.log((1 + r_value) / (1 - r_value))\n",
    "    z_critical = norm.ppf(1 - (1 - confidence_level) / 2)\n",
    "    se = 1 / np.sqrt(n - 3)\n",
    "    z_interval = z_critical * se\n",
    "    z_lower, z_upper = z - z_interval, z + z_interval\n",
    "    r_lower = (np.exp(2 * z_lower) - 1) / (np.exp(2 * z_lower) + 1)\n",
    "    r_upper = (np.exp(2 * z_upper) - 1) / (np.exp(2 * z_upper) + 1)\n",
    "    return r_lower, r_upper\n",
    "\n",
    "# Load the final TSV file\n",
    "data = pd.read_csv('contingency_fimo_cub.tsv', sep='\\t')\n",
    "\n",
    "# Select only TF columns by excluding 'Gene', 'CAI', and 'Nc'\n",
    "tf_columns = data.drop(columns=['Gene', 'CAI', 'Nc']).columns\n",
    "\n",
    "# Function to calculate and return significant Spearman correlations (p < 0.05)\n",
    "def find_significant_correlations(target):\n",
    "    significant_results = {}\n",
    "    for tf in tf_columns:\n",
    "        r_value, p_value = spearmanr(data[tf], data[target], nan_policy='omit')\n",
    "        n = data[tf].notnull().sum()  # Sample size (excluding NaNs)\n",
    "        if p_value < 0.05:  # Check for significance\n",
    "            ci_lower, ci_upper = fisher_confidence_interval(r_value, n)\n",
    "            significant_results[tf] = {\n",
    "                'R_value': r_value,\n",
    "                'P_value': p_value,\n",
    "                'CI_lower': ci_lower,\n",
    "                'CI_upper': ci_upper\n",
    "            }\n",
    "    return significant_results\n",
    "\n",
    "# Get significant correlations for both CAI and Nc\n",
    "significant_cai = find_significant_correlations('CAI')\n",
    "significant_nc = find_significant_correlations('Nc')\n",
    "\n",
    "# Find TFs that are significant in both CAI and Nc\n",
    "common_tfs = set(significant_cai.keys()).intersection(set(significant_nc.keys()))\n",
    "\n",
    "# Create a DataFrame to hold the results\n",
    "results = []\n",
    "for tf in common_tfs:\n",
    "    results.append({\n",
    "        'TF': tf,\n",
    "        'CAI_R_value': significant_cai[tf]['R_value'],\n",
    "        'CAI_CI_lower': significant_cai[tf]['CI_lower'],\n",
    "        'CAI_CI_upper': significant_cai[tf]['CI_upper'],\n",
    "        'Nc_R_value': significant_nc[tf]['R_value'],\n",
    "        'Nc_CI_lower': significant_nc[tf]['CI_lower'],\n",
    "        'Nc_CI_upper': significant_nc[tf]['CI_upper'],\n",
    "    })\n",
    "\n",
    "results_df = pd.DataFrame(results)\n",
    "\n",
    "# Save the results to a .tsv file\n",
    "results_df.to_csv('tfbs_cub_corr_common_output_with_CI.tsv', sep='\\t', index=False)\n",
    "\n",
    "# Save the results to an Excel file\n",
    "results_df.to_excel('tfbs_cub_corr_common_output_with_CI.xlsx', index=False)\n",
    "\n",
    "# Plot a clustermap of the R_values with hierarchical clustering\n",
    "heatmap_data = results_df.set_index('TF')[['CAI_R_value', 'Nc_R_value']]\n",
    "\n",
    "# Create a clustermap with streamlined design\n",
    "plt.figure(figsize=(8, 6))\n",
    "clustermap = sns.clustermap(\n",
    "    heatmap_data, \n",
    "    annot=False,  # Remove annotations\n",
    "    cmap='coolwarm', \n",
    "    center=0, \n",
    "    cbar_kws={'label': 'Spearman R-value'},\n",
    "    figsize=(8, 6),\n",
    "    linewidths=0.3,  # Thin lines for cell separation\n",
    "    linecolor='black',\n",
    "    vmin=-1, vmax=1\n",
    ")\n",
    "\n",
    "# Adjust title and labels\n",
    "plt.title('Hierarchical Clustering of TF Correlations with CAI and Nc', fontsize=14, weight='bold')\n",
    "plt.xlabel('Metrics', fontsize=12, weight='bold')\n",
    "plt.ylabel('Transcription Factors', fontsize=12, weight='bold')\n",
    "plt.xticks(fontsize=10)\n",
    "plt.yticks(fontsize=10)\n",
    "clustermap.cax.set_ylabel('Spearman R-value', fontsize=12, weight='bold')\n",
    "\n",
    "# Show plot\n",
    "plt.show()\n"
   ]
  }
 ],
 "metadata": {
  "kernelspec": {
   "display_name": "Python 3",
   "language": "python",
   "name": "python3"
  },
  "language_info": {
   "codemirror_mode": {
    "name": "ipython",
    "version": 3
   },
   "file_extension": ".py",
   "mimetype": "text/x-python",
   "name": "python",
   "nbconvert_exporter": "python",
   "pygments_lexer": "ipython3",
   "version": "3.11.0"
  }
 },
 "nbformat": 4,
 "nbformat_minor": 2
}
