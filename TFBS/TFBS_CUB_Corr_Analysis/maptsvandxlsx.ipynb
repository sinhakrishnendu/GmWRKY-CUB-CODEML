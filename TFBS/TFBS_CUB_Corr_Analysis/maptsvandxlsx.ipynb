{
 "cells": [
  {
   "cell_type": "code",
   "execution_count": 2,
   "metadata": {},
   "outputs": [
    {
     "name": "stdout",
     "output_type": "stream",
     "text": [
      "Merging completed. Final data saved to 'final_cont_table_fimo_cai_nc.tsv'.\n"
     ]
    }
   ],
   "source": [
    "import pandas as pd\n",
    "\n",
    "# Load the contingency table file\n",
    "cont_table_fimo = pd.read_csv('cont_table_fimo_ss.tsv', sep='\\t')\n",
    "\n",
    "# Load the .xlsx file containing CAI and Nc data, but only select the 'Name', 'CAI', and 'Nc' columns\n",
    "cai_nc_data = pd.read_excel('CUBIndices.xlsx', usecols=['Name', 'CAI', 'Nc'])\n",
    "\n",
    "# Merge both files based on the gene ids\n",
    "# Assuming 'Gene' is the common column in the .tsv file and 'Name' in the .xlsx file\n",
    "merged_data = pd.merge(cont_table_fimo, cai_nc_data, left_on='Gene', right_on='Name')\n",
    "\n",
    "# Drop the 'Name' column from the final result (keeping only 'Gene')\n",
    "merged_data = merged_data.drop(columns=['Name'])\n",
    "\n",
    "# Save the final merged data into a new .tsv file\n",
    "merged_data.to_csv('final_cont_table_fimo_cai_nc.tsv', sep='\\t', index=False)\n",
    "\n",
    "print(\"Merging completed. Final data saved to 'final_cont_table_fimo_cai_nc.tsv'.\")\n"
   ]
  }
 ],
 "metadata": {
  "kernelspec": {
   "display_name": "Python 3",
   "language": "python",
   "name": "python3"
  },
  "language_info": {
   "codemirror_mode": {
    "name": "ipython",
    "version": 3
   },
   "file_extension": ".py",
   "mimetype": "text/x-python",
   "name": "python",
   "nbconvert_exporter": "python",
   "pygments_lexer": "ipython3",
   "version": "3.11.0"
  }
 },
 "nbformat": 4,
 "nbformat_minor": 2
}
