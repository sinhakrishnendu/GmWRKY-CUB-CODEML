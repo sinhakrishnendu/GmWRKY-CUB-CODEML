{
 "cells": [
  {
   "cell_type": "code",
   "execution_count": 5,
   "metadata": {},
   "outputs": [],
   "source": [
    "import pandas as pd\n",
    "from Bio import SeqIO\n",
    "import openpyxl"
   ]
  },
  {
   "cell_type": "code",
   "execution_count": 8,
   "metadata": {},
   "outputs": [
    {
     "name": "stdout",
     "output_type": "stream",
     "text": [
      "19 Sequences written to Clade1.fasta\n",
      "12 Sequences written to Clade2.fasta\n",
      "11 Sequences written to Clade3.fasta\n",
      "33 Sequences written to Clade4.fasta\n",
      "7 Sequences written to Clade5a.fasta\n",
      "14 Sequences written to Clade5b.fasta\n",
      "15 Sequences written to Clade5c.fasta\n",
      "36 Sequences written to Clade5.fasta\n",
      "5 Sequences written to Clade6.fasta\n",
      "24 Sequences written to Clade7.fasta\n",
      "17 Sequences written to Clade8a.fasta\n",
      "22 Sequences written to Clade8b.fasta\n",
      "39 Sequences written to Clade8.fasta\n"
     ]
    }
   ],
   "source": [
    "# Load the Excel file with multiple sheets\n",
    "excel_file = 'Clades.xlsx'  # Replace with your file name\n",
    "fasta_file = 'CDS179.fasta'  # Replace with your large FASTA file\n",
    "\n",
    "# Read the Excel file without headers\n",
    "sheets = pd.read_excel(excel_file, sheet_name=None, header=None)\n",
    "\n",
    "# Parse the large FASTA file\n",
    "fasta_sequences = SeqIO.to_dict(SeqIO.parse(fasta_file, \"fasta\"))\n",
    "\n",
    "# Process each sheet and isolate sequences\n",
    "for sheet_name, df in sheets.items():\n",
    "    # Get the list of sequence names from the first column\n",
    "    sequence_names = df.iloc[:, 0].tolist()\n",
    "    \n",
    "    # Filter sequences based on the names\n",
    "    filtered_sequences = [fasta_sequences[name] for name in sequence_names if name in fasta_sequences]\n",
    "    l=len(filtered_sequences)\n",
    "    \n",
    "    # Write the filtered sequences to a new FASTA file named after the sheet\n",
    "    output_file = f\"{sheet_name}.fasta\"\n",
    "    SeqIO.write(filtered_sequences, output_file, \"fasta\")\n",
    "\n",
    "    print(f\"{l} Sequences written to {output_file}\")"
   ]
  }
 ],
 "metadata": {
  "kernelspec": {
   "display_name": "Python 3",
   "language": "python",
   "name": "python3"
  },
  "language_info": {
   "codemirror_mode": {
    "name": "ipython",
    "version": 3
   },
   "file_extension": ".py",
   "mimetype": "text/x-python",
   "name": "python",
   "nbconvert_exporter": "python",
   "pygments_lexer": "ipython3",
   "version": "3.11.0"
  }
 },
 "nbformat": 4,
 "nbformat_minor": 2
}
