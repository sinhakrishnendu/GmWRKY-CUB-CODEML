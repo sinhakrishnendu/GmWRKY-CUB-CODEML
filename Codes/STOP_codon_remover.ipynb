{
 "cells": [
  {
   "cell_type": "code",
   "execution_count": 1,
   "metadata": {},
   "outputs": [],
   "source": [
    "from Bio import SeqIO"
   ]
  },
  {
   "cell_type": "code",
   "execution_count": 3,
   "metadata": {},
   "outputs": [],
   "source": [
    "with open('GmWRKY_CDS_AT_woSTOP.fasta','w') as f:\n",
    "    for record in SeqIO.parse('GmWRKY_CDS_AT.fasta','fasta'):\n",
    "        #ids = record.id+'.1'\n",
    "        #record.description = ''\n",
    "        seqs = record.seq[:-3]\n",
    "        #record.id = ids\n",
    "        record.seq = seqs\n",
    "        SeqIO.write(record,f,'fasta')\n"
   ]
  },
  {
   "cell_type": "code",
   "execution_count": null,
   "metadata": {},
   "outputs": [],
   "source": []
  }
 ],
 "metadata": {
  "kernelspec": {
   "display_name": "Python 3",
   "language": "python",
   "name": "python3"
  },
  "language_info": {
   "codemirror_mode": {
    "name": "ipython",
    "version": 3
   },
   "file_extension": ".py",
   "mimetype": "text/x-python",
   "name": "python",
   "nbconvert_exporter": "python",
   "pygments_lexer": "ipython3",
   "version": "3.11.0"
  }
 },
 "nbformat": 4,
 "nbformat_minor": 2
}
