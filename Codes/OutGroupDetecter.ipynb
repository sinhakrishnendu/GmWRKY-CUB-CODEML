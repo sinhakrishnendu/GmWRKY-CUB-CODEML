{
 "cells": [
  {
   "cell_type": "code",
   "execution_count": 4,
   "metadata": {},
   "outputs": [],
   "source": [
    "from Bio import SeqIO"
   ]
  },
  {
   "cell_type": "code",
   "execution_count": 5,
   "metadata": {},
   "outputs": [
    {
     "name": "stdout",
     "output_type": "stream",
     "text": [
      "{'Glyma.01G043300.1': 1527, 'Glyma.01G053800.1': 1365, 'Glyma.01G056800.1': 891, 'Glyma.01G128100.1': 1521, 'Glyma.01G189100.1': 963, 'Glyma.01G222300.1': 735, 'Glyma.01G224800.1': 966, 'Glyma.02G007500.1': 1452, 'Glyma.02G010900.1': 960, 'Glyma.02G112100.1': 1365, 'Glyma.02G115200.1': 879, 'Glyma.02G141000.1': 1065, 'Glyma.02G203800.1': 1599, 'Glyma.02G232600.1': 1740, 'Glyma.02G285900.1': 1011, 'Glyma.02G293400.1': 1260, 'Glyma.02G297400.1': 1764, 'Glyma.02G306300.1': 1521, 'Glyma.03G002300.1': 705, 'Glyma.03G042700.1': 1521, 'Glyma.03G109100.1': 714, 'Glyma.03G159700.1': 1023, 'Glyma.03G176600.1': 1344, 'Glyma.03G220100.1': 759, 'Glyma.03G220800.1': 861, 'Glyma.03G224700.1': 1623, 'Glyma.03G256700.1': 1086, 'Glyma.04G054200.1': 483, 'Glyma.04G061400.1': 660, 'Glyma.04G076200.1': 837, 'Glyma.04G115500.1': 2283, 'Glyma.04G173500.1': 1593, 'Glyma.04G218400.1': 702, 'Glyma.04G218700.1': 588, 'Glyma.04G223200.1': 1011, 'Glyma.04G223300.1': 951, 'Glyma.04G238300.1': 1092, 'Glyma.05G029000.1': 1782, 'Glyma.05G096500.1': 1002, 'Glyma.05G123000.1': 1455, 'Glyma.05G123600.1': 1290, 'Glyma.05G127600.1': 1074, 'Glyma.05G160800.1': 765, 'Glyma.05G165800.1': 4065, 'Glyma.05G184500.1': 564, 'Glyma.05G185400.1': 648, 'Glyma.05G203900.1': 297, 'Glyma.05G211900.1': 864, 'Glyma.05G215900.1': 1089, 'Glyma.06G054500.1': 483, 'Glyma.06G061900.1': 927, 'Glyma.06G077400.1': 900, 'Glyma.06G125600.1': 1092, 'Glyma.06G142000.1': 957, 'Glyma.06G142100.1': 993, 'Glyma.06G147100.1': 588, 'Glyma.06G147500.1': 708, 'Glyma.06G168400.1': 480, 'Glyma.06G190800.1': 1845, 'Glyma.06G219800.1': 1410, 'Glyma.06G242200.1': 636, 'Glyma.06G307700.1': 1884, 'Glyma.06G320700.1': 2328, 'Glyma.07G023300.1': 933, 'Glyma.07G057400.1': 1107, 'Glyma.07G116300.1': 711, 'Glyma.07G133700.1': 951, 'Glyma.07G161100.1': 756, 'Glyma.07G227200.1': 1326, 'Glyma.07G238000.1': 1173, 'Glyma.07G262700.1': 1551, 'Glyma.08G011300.1': 441, 'Glyma.08G018300.1': 876, 'Glyma.08G021900.1': 1077, 'Glyma.08G078100.1': 543, 'Glyma.08G078700.1': 1287, 'Glyma.08G082400.1': 1113, 'Glyma.08G118200.1': 783, 'Glyma.08G142400.1': 552, 'Glyma.08G143400.1': 705, 'Glyma.08G218600.1': 939, 'Glyma.08G240800.1': 1569, 'Glyma.08G320200.1': 1458, 'Glyma.08G325800.1': 1731, 'Glyma.09G005700.1': 1623, 'Glyma.09G029800.1': 1542, 'Glyma.09G034300.1': 993, 'Glyma.09G061900.1': 888, 'Glyma.09G080000.1': 1374, 'Glyma.09G127100.1': 726, 'Glyma.09G129100.1': 1116, 'Glyma.09G240000.1': 1623, 'Glyma.09G244000.1': 714, 'Glyma.09G250500.1': 2202, 'Glyma.09G254400.1': 576, 'Glyma.09G254800.1': 1044, 'Glyma.09G274000.1': 900, 'Glyma.09G280200.1': 1629, 'Glyma.10G011300.1': 969, 'Glyma.10G032900.1': 1176, 'Glyma.10G111400.1': 915, 'Glyma.10G113800.1': 360, 'Glyma.10G138300.1': 1449, 'Glyma.10G171000.1': 1101, 'Glyma.10G171100.1': 576, 'Glyma.10G171200.1': 1008, 'Glyma.10G230200.1': 891, 'Glyma.11G021200.1': 642, 'Glyma.11G053100.1': 963, 'Glyma.11G163300.1': 1644, 'Glyma.12G097100.1': 1842, 'Glyma.12G152600.1': 1401, 'Glyma.12G212300.1': 789, 'Glyma.13G102000.1': 972, 'Glyma.13G117600.1': 1149, 'Glyma.13G267400.1': 882, 'Glyma.13G267500.1': 888, 'Glyma.13G267600.1': 900, 'Glyma.13G267700.1': 810, 'Glyma.13G289400.1': 795, 'Glyma.13G310100.1': 1842, 'Glyma.13G370100.1': 927, 'Glyma.14G006800.1': 1524, 'Glyma.14G016200.1': 1755, 'Glyma.14G028900.1': 1005, 'Glyma.14G085500.1': 828, 'Glyma.14G102900.1': 834, 'Glyma.14G103100.1': 846, 'Glyma.14G135400.1': 948, 'Glyma.14G185800.1': 987, 'Glyma.14G186000.1': 909, 'Glyma.14G186100.1': 720, 'Glyma.14G199800.1': 996, 'Glyma.14G200200.1': 1725, 'Glyma.15G003300.1': 990, 'Glyma.15G110300.1': 1671, 'Glyma.15G135600.1': 1569, 'Glyma.15G139000.1': 1068, 'Glyma.15G168200.1': 879, 'Glyma.15G186300.1': 1353, 'Glyma.16G026400.1': 1119, 'Glyma.16G031400.1': 585, 'Glyma.16G031900.1': 1005, 'Glyma.16G054400.1': 585, 'Glyma.16G176700.1': 822, 'Glyma.16G177000.1': 1224, 'Glyma.16G219800.1': 795, 'Glyma.17G011400.1': 1467, 'Glyma.17G035400.1': 1194, 'Glyma.17G042300.1': 1173, 'Glyma.17G057100.1': 960, 'Glyma.17G074000.1': 1515, 'Glyma.17G097900.1': 1800, 'Glyma.17G168900.1': 996, 'Glyma.17G197500.1': 987, 'Glyma.17G222300.1': 936, 'Glyma.17G222500.1': 834, 'Glyma.17G224800.1': 492, 'Glyma.17G239200.1': 834, 'Glyma.18G056600.1': 1626, 'Glyma.18G081200.1': 1731, 'Glyma.18G092200.1': 1434, 'Glyma.18G124700.1': 1587, 'Glyma.18G183100.1': 924, 'Glyma.18G208800.1': 1623, 'Glyma.18G213200.1': 897, 'Glyma.18G238200.1': 1053, 'Glyma.18G238600.1': 576, 'Glyma.18G242000.1': 2232, 'Glyma.18G256500.1': 1623, 'Glyma.18G263400.1': 1560, 'Glyma.19G094100.1': 564, 'Glyma.19G177400.1': 1413, 'Glyma.19G217000.1': 852, 'Glyma.19G217800.1': 870, 'Glyma.19G221700.1': 1548, 'Glyma.19G254800.1': 1086, 'Glyma.20G028000.1': 1317, 'Glyma.20G030500.1': 489, 'Glyma.20G163200.1': 963}\n"
     ]
    }
   ],
   "source": [
    "dic = {}\n",
    "for record in SeqIO.parse('GmWRKY_CDS180_PlantTFDB.fasta','fasta'):\n",
    "    ids = record.id\n",
    "    #record.description = ''\n",
    "    seqs_ln = len (record.seq)\n",
    "    #record.id = ids\n",
    "    dic[ids] = seqs_ln\n",
    "    #SeqIO.write(record,f,'fasta')\n",
    "print(dic)"
   ]
  },
  {
   "cell_type": "code",
   "execution_count": 6,
   "metadata": {},
   "outputs": [
    {
     "name": "stdout",
     "output_type": "stream",
     "text": [
      "Outlier genes based on length: {'Glyma.05G165800.1': 4065}\n"
     ]
    }
   ],
   "source": [
    "import numpy as np\n",
    "\n",
    "# Extract the length values\n",
    "length_values = np.array(list(dic.values()))\n",
    "\n",
    "# Calculate Q1 (25th percentile) and Q3 (75th percentile)\n",
    "Q1 = np.percentile(length_values, 25)\n",
    "Q3 = np.percentile(length_values, 75)\n",
    "IQR = Q3 - Q1\n",
    "\n",
    "# Determine the bounds for outliers\n",
    "lower_bound = Q1 - 1.5 * IQR\n",
    "upper_bound = Q3 + 1.5 * IQR\n",
    "\n",
    "# Identify outliers\n",
    "outliers = {key: value for key, value in dic.items() if value < lower_bound or value > upper_bound}\n",
    "\n",
    "print(\"Outlier genes based on length:\", outliers)\n"
   ]
  }
 ],
 "metadata": {
  "kernelspec": {
   "display_name": "Python 3",
   "language": "python",
   "name": "python3"
  },
  "language_info": {
   "codemirror_mode": {
    "name": "ipython",
    "version": 3
   },
   "file_extension": ".py",
   "mimetype": "text/x-python",
   "name": "python",
   "nbconvert_exporter": "python",
   "pygments_lexer": "ipython3",
   "version": "3.11.0"
  }
 },
 "nbformat": 4,
 "nbformat_minor": 2
}
