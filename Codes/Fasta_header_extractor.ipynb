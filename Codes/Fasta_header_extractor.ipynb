{
 "cells": [
  {
   "cell_type": "code",
   "execution_count": 11,
   "metadata": {},
   "outputs": [],
   "source": [
    "from Bio import SeqIO"
   ]
  },
  {
   "cell_type": "code",
   "execution_count": 44,
   "metadata": {},
   "outputs": [
    {
     "name": "stdout",
     "output_type": "stream",
     "text": [
      "180\n"
     ]
    }
   ],
   "source": [
    "#fasta header extractor\n",
    "count = 0\n",
    "with open ('fasta_headers.txt','w') as f:\n",
    "    for record in SeqIO.parse(\"gmWRKY_CDS.fasta\", \"fasta\"):\n",
    "        #print(record.id)\n",
    "        count+=1\n",
    "        f.write(f\"{record.id}, \")\n",
    "    \n",
    "print(count)"
   ]
  },
  {
   "cell_type": "markdown",
   "metadata": {},
   "source": [
    "#counting total fasta sequences in a file\n",
    "count = 0\n",
    "for seq in SeqIO.parse('fasta_headers.txt','fasta'):\n",
    "    print(seq.id)\n",
    "    count+=1\n",
    "print(count)"
   ]
  },
  {
   "cell_type": "code",
   "execution_count": 60,
   "metadata": {},
   "outputs": [
    {
     "name": "stdout",
     "output_type": "stream",
     "text": [
      "['Glyma.01G043300', ' Glyma.01G053800', ' Glyma.01G056800', ' Glyma.01G128100', ' Glyma.01G189100', ' Glyma.01G222300', ' Glyma.01G224800', ' Glyma.02G007500', ' Glyma.02G010900', ' Glyma.02G112100', ' Glyma.02G115200', ' Glyma.02G141000', ' Glyma.02G203800', ' Glyma.02G232600', ' Glyma.02G285900', ' Glyma.02G293400', ' Glyma.02G297400', ' Glyma.02G306300', ' Glyma.03G002300', ' Glyma.03G042700', ' Glyma.03G109100', ' Glyma.03G159700', ' Glyma.03G176600', ' Glyma.03G220100', ' Glyma.03G220800', ' Glyma.03G224700', ' Glyma.03G256700', ' Glyma.04G054200', ' Glyma.04G061400', ' Glyma.04G076200', ' Glyma.04G115500', ' Glyma.04G173500', ' Glyma.04G218400', ' Glyma.04G218700', ' Glyma.04G223200', ' Glyma.04G223300', ' Glyma.04G238300', ' Glyma.05G029000', ' Glyma.05G096500', ' Glyma.05G123000', ' Glyma.05G123600', ' Glyma.05G127600', ' Glyma.05G160800', ' Glyma.05G165800', ' Glyma.05G184500', ' Glyma.05G185400', ' Glyma.05G203900', ' Glyma.05G211900', ' Glyma.05G215900', ' Glyma.06G054500', ' Glyma.06G061900', ' Glyma.06G077400', ' Glyma.06G125600', ' Glyma.06G142000', ' Glyma.06G142100', ' Glyma.06G147100', ' Glyma.06G147500', ' Glyma.06G168400', ' Glyma.06G190800', ' Glyma.06G219800', ' Glyma.06G242200', ' Glyma.06G307700', ' Glyma.06G320700', ' Glyma.07G023300', ' Glyma.07G057400', ' Glyma.07G116300', ' Glyma.07G133700', ' Glyma.07G161100', ' Glyma.07G227200', ' Glyma.07G238000', ' Glyma.07G262700', ' Glyma.08G011300', ' Glyma.08G018300', ' Glyma.08G021900', ' Glyma.08G078100', ' Glyma.08G078700', ' Glyma.08G082400', ' Glyma.08G118200', ' Glyma.08G142400', ' Glyma.08G143400', ' Glyma.08G218600', ' Glyma.08G240800', ' Glyma.08G320200', ' Glyma.08G325800', ' Glyma.09G005700', ' Glyma.09G029800', ' Glyma.09G034300', ' Glyma.09G061900', ' Glyma.09G080000', ' Glyma.09G127100', ' Glyma.09G129100', ' Glyma.09G240000', ' Glyma.09G244000', ' Glyma.09G250500', ' Glyma.09G254400', ' Glyma.09G254800', ' Glyma.09G274000', ' Glyma.09G280200', ' Glyma.10G011300', ' Glyma.10G032900', ' Glyma.10G111400', ' Glyma.10G113800', ' Glyma.10G138300', ' Glyma.10G171000', ' Glyma.10G171100', ' Glyma.10G171200', ' Glyma.10G230200', ' Glyma.11G021200', ' Glyma.11G053100', ' Glyma.11G163300', ' Glyma.12G097100', ' Glyma.12G152600', ' Glyma.12G212300', ' Glyma.13G102000', ' Glyma.13G117600', ' Glyma.13G267400', ' Glyma.13G267500', ' Glyma.13G267600', ' Glyma.13G267700', ' Glyma.13G289400', ' Glyma.13G310100', ' Glyma.13G370100', ' Glyma.14G006800', ' Glyma.14G016200', ' Glyma.14G028900', ' Glyma.14G085500', ' Glyma.14G102900', ' Glyma.14G103100', ' Glyma.14G135400', ' Glyma.14G185800', ' Glyma.14G186000', ' Glyma.14G186100', ' Glyma.14G199800', ' Glyma.14G200200', ' Glyma.15G003300', ' Glyma.15G110300', ' Glyma.15G135600', ' Glyma.15G139000', ' Glyma.15G168200', ' Glyma.15G186300', ' Glyma.16G026400', ' Glyma.16G031400', ' Glyma.16G031900', ' Glyma.16G054400', ' Glyma.16G176700', ' Glyma.16G177000', ' Glyma.16G219800', ' Glyma.17G011400', ' Glyma.17G035400', ' Glyma.17G042300', ' Glyma.17G057100', ' Glyma.17G074000', ' Glyma.17G097900', ' Glyma.17G168900', ' Glyma.17G197500', ' Glyma.17G222300', ' Glyma.17G222500', ' Glyma.17G224800', ' Glyma.17G239200', ' Glyma.18G056600', ' Glyma.18G081200', ' Glyma.18G092200', ' Glyma.18G124700', ' Glyma.18G183100', ' Glyma.18G208800', ' Glyma.18G213200', ' Glyma.18G238200', ' Glyma.18G238600', ' Glyma.18G242000', ' Glyma.18G256500', ' Glyma.18G263400', ' Glyma.19G094100', ' Glyma.19G177400', ' Glyma.19G217000', ' Glyma.19G217800', ' Glyma.19G221700', ' Glyma.19G254800', ' Glyma.20G028000', ' Glyma.20G030500', ' Glyma.20G163200']\n",
      "180\n"
     ]
    }
   ],
   "source": [
    "#converting fasta header into a list\n",
    "with open('fasta_headers.txt','r') as f:\n",
    "    headers = f.read()\n",
    "fasta_header_list = headers[:-2].split(',')\n",
    "print(fasta_header_list)\n",
    "print(len(fasta_header_list))"
   ]
  },
  {
   "cell_type": "code",
   "execution_count": 61,
   "metadata": {},
   "outputs": [
    {
     "name": "stdout",
     "output_type": "stream",
     "text": [
      "['Glyma.01G043300.1.p', 'Glyma.01G053800.1.p', 'Glyma.01G056800.1.p', 'Glyma.01G128100.1.p', 'Glyma.01G189100.1.p', 'Glyma.01G222300.1.p', 'Glyma.01G224800.1.p', 'Glyma.02G007500.1.p', 'Glyma.02G010900.1.p', 'Glyma.02G112100.1.p', 'Glyma.02G115200.1.p', 'Glyma.02G141000.1.p', 'Glyma.02G203800.1.p', 'Glyma.02G232600.1.p', 'Glyma.02G285900.1.p', 'Glyma.02G293400.1.p', 'Glyma.02G297400.1.p', 'Glyma.02G306300.1.p', 'Glyma.03G002300.1.p', 'Glyma.03G042700.1.p', 'Glyma.03G109100.1.p', 'Glyma.03G159700.1.p', 'Glyma.03G176600.1.p', 'Glyma.03G220100.1.p', 'Glyma.03G220800.1.p', 'Glyma.03G224700.1.p', 'Glyma.03G256700.1.p', 'Glyma.04G054200.1.p', 'Glyma.04G061400.1.p', 'Glyma.04G076200.1.p', 'Glyma.04G115500.1.p', 'Glyma.04G173500.1.p', 'Glyma.04G218400.1.p', 'Glyma.04G218700.1.p', 'Glyma.04G223200.1.p', 'Glyma.04G223300.1.p', 'Glyma.04G238300.1.p', 'Glyma.05G029000.1.p', 'Glyma.05G096500.1.p', 'Glyma.05G123000.1.p', 'Glyma.05G123600.1.p', 'Glyma.05G127600.1.p', 'Glyma.05G160800.1.p', 'Glyma.05G165800.1.p', 'Glyma.05G184500.1.p', 'Glyma.05G185400.1.p', 'Glyma.05G203900.1.p', 'Glyma.05G211900.1.p', 'Glyma.05G215900.1.p', 'Glyma.06G054500.1.p', 'Glyma.06G061900.1.p', 'Glyma.06G077400.1.p', 'Glyma.06G125600.1.p', 'Glyma.06G142000.1.p', 'Glyma.06G142100.1.p', 'Glyma.06G147100.1.p', 'Glyma.06G147500.1.p', 'Glyma.06G168400.1.p', 'Glyma.06G190800.1.p', 'Glyma.06G219800.1.p', 'Glyma.06G242200.1.p', 'Glyma.06G307700.1.p', 'Glyma.06G320700.1.p', 'Glyma.07G023300.1.p', 'Glyma.07G057400.1.p', 'Glyma.07G116300.1.p', 'Glyma.07G133700.1.p', 'Glyma.07G161100.1.p', 'Glyma.07G227200.1.p', 'Glyma.07G238000.1.p', 'Glyma.07G262700.1.p', 'Glyma.08G011300.1.p', 'Glyma.08G018300.1.p', 'Glyma.08G021900.1.p', 'Glyma.08G078100.1.p', 'Glyma.08G078700.1.p', 'Glyma.08G082400.1.p', 'Glyma.08G118200.1.p', 'Glyma.08G142400.1.p', 'Glyma.08G143400.1.p', 'Glyma.08G218600.1.p', 'Glyma.08G240800.1.p', 'Glyma.08G320200.1.p', 'Glyma.08G325800.1.p', 'Glyma.09G005700.1.p', 'Glyma.09G029800.1.p', 'Glyma.09G034300.1.p', 'Glyma.09G061900.1.p', 'Glyma.09G080000.1.p', 'Glyma.09G127100.1.p', 'Glyma.09G129100.1.p', 'Glyma.09G240000.1.p', 'Glyma.09G244000.1.p', 'Glyma.09G250500.1.p', 'Glyma.09G254400.1.p', 'Glyma.09G254800.1.p', 'Glyma.09G274000.1.p', 'Glyma.09G280200.1.p', 'Glyma.10G011300.1.p', 'Glyma.10G032900.1.p', 'Glyma.10G111400.1.p', 'Glyma.10G113800.1.p', 'Glyma.10G138300.1.p', 'Glyma.10G171000.1.p', 'Glyma.10G171100.1.p', 'Glyma.10G171200.1.p', 'Glyma.10G230200.1.p', 'Glyma.11G021200.1.p', 'Glyma.11G053100.1.p', 'Glyma.11G163300.1.p', 'Glyma.12G097100.1.p', 'Glyma.12G152600.1.p', 'Glyma.12G212300.1.p', 'Glyma.13G102000.1.p', 'Glyma.13G117600.1.p', 'Glyma.13G267400.1.p', 'Glyma.13G267500.1.p', 'Glyma.13G267600.1.p', 'Glyma.13G267700.1.p', 'Glyma.13G289400.1.p', 'Glyma.13G310100.1.p', 'Glyma.13G370100.1.p', 'Glyma.14G006800.1.p', 'Glyma.14G016200.1.p', 'Glyma.14G028900.1.p', 'Glyma.14G085500.1.p', 'Glyma.14G102900.1.p', 'Glyma.14G103100.1.p', 'Glyma.14G135400.1.p', 'Glyma.14G185800.1.p', 'Glyma.14G186000.1.p', 'Glyma.14G186100.1.p', 'Glyma.14G199800.1.p', 'Glyma.14G200200.1.p', 'Glyma.15G003300.1.p', 'Glyma.15G110300.1.p', 'Glyma.15G135600.1.p', 'Glyma.15G139000.1.p', 'Glyma.15G168200.1.p', 'Glyma.15G186300.1.p', 'Glyma.16G026400.1.p', 'Glyma.16G031400.1.p', 'Glyma.16G031900.1.p', 'Glyma.16G054400.1.p', 'Glyma.16G176700.1.p', 'Glyma.16G177000.1.p', 'Glyma.16G219800.1.p', 'Glyma.17G011400.1.p', 'Glyma.17G035400.1.p', 'Glyma.17G042300.1.p', 'Glyma.17G057100.1.p', 'Glyma.17G074000.1.p', 'Glyma.17G097900.1.p', 'Glyma.17G168900.1.p', 'Glyma.17G197500.1.p', 'Glyma.17G222300.1.p', 'Glyma.17G222500.1.p', 'Glyma.17G224800.1.p', 'Glyma.17G239200.1.p', 'Glyma.18G056600.1.p', 'Glyma.18G081200.1.p', 'Glyma.18G092200.1.p', 'Glyma.18G124700.1.p', 'Glyma.18G183100.1.p', 'Glyma.18G208800.1.p', 'Glyma.18G213200.1.p', 'Glyma.18G238200.1.p', 'Glyma.18G238600.1.p', 'Glyma.18G242000.1.p', 'Glyma.18G256500.1.p', 'Glyma.18G263400.1.p', 'Glyma.19G094100.1.p', 'Glyma.19G177400.1.p', 'Glyma.19G217000.1.p', 'Glyma.19G217800.1.p', 'Glyma.19G221700.1.p', 'Glyma.19G254800.1.p', 'Glyma.20G028000.1.p', 'Glyma.20G030500.1.p', 'Glyma.20G163200.1.p']\n",
      "296\n"
     ]
    }
   ],
   "source": [
    "#fasta sequence cleaner with specific ids\n",
    "fasta_header_list_1 = [i.lstrip()+'.1.p' for i in fasta_header_list]\n",
    "print(fasta_header_list_1)\n",
    "count = 0\n",
    "with open ('GmWRKY_ProteinSeq_nonredundant.txt','w') as f:\n",
    "    for record in SeqIO.parse(\"GmWRKY_ProteinSeq.fas\", \"fasta\"):\n",
    "        #print(record.id)\n",
    "        count+=1    \n",
    "        '''if record.id.endswith('.1.p'):\n",
    "            SeqIO.write(record,f,'fasta')\n",
    "        '''\n",
    "        if any(substr in record.id for substr in fasta_header_list_1):\n",
    "            SeqIO.write(record,f,'fasta')\n",
    "print(count)"
   ]
  },
  {
   "cell_type": "code",
   "execution_count": 62,
   "metadata": {},
   "outputs": [
    {
     "name": "stdout",
     "output_type": "stream",
     "text": [
      "180\n"
     ]
    }
   ],
   "source": [
    "count = 0\n",
    "for record in SeqIO.parse(\"GmWRKY_ProteinSeq_nonredundant.txt\", \"fasta\"):\n",
    "    #print(record.id)\n",
    "    count+=1\n",
    "print(count)"
   ]
  }
 ],
 "metadata": {
  "kernelspec": {
   "display_name": "Python 3",
   "language": "python",
   "name": "python3"
  },
  "language_info": {
   "codemirror_mode": {
    "name": "ipython",
    "version": 3
   },
   "file_extension": ".py",
   "mimetype": "text/x-python",
   "name": "python",
   "nbconvert_exporter": "python",
   "pygments_lexer": "ipython3",
   "version": "3.11.0"
  }
 },
 "nbformat": 4,
 "nbformat_minor": 2
}
