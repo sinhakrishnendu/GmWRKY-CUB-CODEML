{
 "cells": [
  {
   "cell_type": "code",
   "execution_count": 6,
   "metadata": {},
   "outputs": [],
   "source": [
    "import os\n",
    "import glob\n",
    "\n",
    "def concatenate_axt_files(input_folder, output_file):\n",
    "    # Get a list of all .axt files in the input folder\n",
    "    axt_files = glob.glob(os.path.join(input_folder, '*.axt'))\n",
    "    \n",
    "    # Open the output file in write mode\n",
    "    with open(output_file, 'w') as outfile:\n",
    "        # Loop through each file and append its content to the output file\n",
    "        for i, axt_file in enumerate(axt_files):\n",
    "            with open(axt_file, 'r') as infile:\n",
    "                # Write the content of the file to the output file\n",
    "                outfile.write(infile.read())\n",
    "                \n",
    "                '''# Add a blank line between files, except after the last file\n",
    "                if i < len(axt_files) - 1:\n",
    "                    outfile.write('\\n')'''\n"
   ]
  },
  {
   "cell_type": "code",
   "execution_count": 7,
   "metadata": {},
   "outputs": [],
   "source": [
    "input_folder = r\"C:\\Users\\krish\\Downloads\\ParaAT2.0\\ParaAT2.0\\output4kaks\"\n",
    "output_file = 'combined_output.axt'\n",
    "concatenate_axt_files(input_folder, output_file)"
   ]
  }
 ],
 "metadata": {
  "kernelspec": {
   "display_name": "Python 3",
   "language": "python",
   "name": "python3"
  },
  "language_info": {
   "codemirror_mode": {
    "name": "ipython",
    "version": 3
   },
   "file_extension": ".py",
   "mimetype": "text/x-python",
   "name": "python",
   "nbconvert_exporter": "python",
   "pygments_lexer": "ipython3",
   "version": "3.11.0"
  }
 },
 "nbformat": 4,
 "nbformat_minor": 2
}
