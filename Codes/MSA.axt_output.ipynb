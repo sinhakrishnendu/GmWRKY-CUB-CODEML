{
 "cells": [
  {
   "cell_type": "code",
   "execution_count": 4,
   "metadata": {},
   "outputs": [
    {
     "name": "stdout",
     "output_type": "stream",
     "text": [
      "FASTA to AXT conversion completed successfully.\n"
     ]
    }
   ],
   "source": [
    "#supply the program with a MSA aligned file from in fasta format from MUSCLE or clustalW\n",
    "def read_file(file_path):\n",
    "    with open(file_path, 'r') as file:\n",
    "        return file.readlines()\n",
    "\n",
    "def convert_fasta_to_axt(file_path):\n",
    "    lines = read_file(file_path)\n",
    "    names = []\n",
    "    sequences = []\n",
    "    tmp_seq = \"\"\n",
    "\n",
    "    for line in lines:\n",
    "        line = line.strip()\n",
    "        if line.startswith(\">\"):\n",
    "            if tmp_seq:\n",
    "                sequences.append(tmp_seq)\n",
    "                tmp_seq = \"\"\n",
    "            names.append(line[1:])\n",
    "        else:\n",
    "            tmp_seq += line\n",
    "\n",
    "    if tmp_seq:\n",
    "        sequences.append(tmp_seq)\n",
    "\n",
    "    outfile_path = file_path + \".axt\"\n",
    "    with open(outfile_path, 'w') as outfile:\n",
    "        for i in range(0, len(sequences), 2):\n",
    "            if i + 1 < len(sequences):\n",
    "                summary_line = f\"{names[i]}-{names[i + 1]}\"\n",
    "                seq1 = sequences[i]\n",
    "                seq2 = sequences[i + 1]\n",
    "                outfile.write(f\"{summary_line}\\n{seq1}\\n{seq2}\\n\\n\")\n",
    "            else:\n",
    "                summary_line = f\"{names[i]}-\"\n",
    "                seq1 = sequences[i]\n",
    "                outfile.write(f\"{summary_line}\\n{seq1}\\n\\n\")\n",
    "\n",
    "# Example usage\n",
    "input_fasta = \"WRKY_muscle_alligned.fasta\"\n",
    "convert_fasta_to_axt(input_fasta)\n",
    "print(\"FASTA to AXT conversion completed successfully.\")\n"
   ]
  }
 ],
 "metadata": {
  "kernelspec": {
   "display_name": "Python 3",
   "language": "python",
   "name": "python3"
  },
  "language_info": {
   "codemirror_mode": {
    "name": "ipython",
    "version": 3
   },
   "file_extension": ".py",
   "mimetype": "text/x-python",
   "name": "python",
   "nbconvert_exporter": "python",
   "pygments_lexer": "ipython3",
   "version": "3.11.0"
  }
 },
 "nbformat": 4,
 "nbformat_minor": 2
}
