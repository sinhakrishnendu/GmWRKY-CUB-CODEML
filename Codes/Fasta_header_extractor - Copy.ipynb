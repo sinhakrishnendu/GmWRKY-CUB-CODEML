{
 "cells": [
  {
   "cell_type": "code",
   "execution_count": 2,
   "metadata": {},
   "outputs": [],
   "source": [
    "from Bio import SeqIO"
   ]
  },
  {
   "cell_type": "code",
   "execution_count": 4,
   "metadata": {},
   "outputs": [
    {
     "name": "stdout",
     "output_type": "stream",
     "text": [
      "180\n"
     ]
    }
   ],
   "source": [
    "#fasta header extractor\n",
    "count = 0\n",
    "with open ('fasta_headers.txt','w') as f:\n",
    "    for record in SeqIO.parse(\"GmWRKY_CDS_PlantTFDB.txt\", \"fasta\"):\n",
    "        #print(record.id)\n",
    "        count+=1\n",
    "        f.write(f\"{record.id}, \")\n",
    "    \n",
    "print(count)"
   ]
  },
  {
   "cell_type": "markdown",
   "metadata": {},
   "source": [
    "#counting total fasta sequences in a file\n",
    "count = 0\n",
    "for seq in SeqIO.parse('fasta_headers.txt','fasta'):\n",
    "    print(seq.id)\n",
    "    count+=1\n",
    "print(count)"
   ]
  },
  {
   "cell_type": "code",
   "execution_count": 19,
   "metadata": {},
   "outputs": [
    {
     "name": "stdout",
     "output_type": "stream",
     "text": [
      "['Glyma.01G043300.1', ' Glyma.01G053800.1', ' Glyma.01G056800.1', ' Glyma.01G128100.1', ' Glyma.01G189100.1', ' Glyma.01G222300.1', ' Glyma.01G224800.1', ' Glyma.02G007500.1', ' Glyma.02G010900.1', ' Glyma.02G112100.1', ' Glyma.02G115200.1', ' Glyma.02G141000.1', ' Glyma.02G203800.1', ' Glyma.02G232600.1', ' Glyma.02G285900.1', ' Glyma.02G293400.1', ' Glyma.02G297400.1', ' Glyma.02G306300.1', ' Glyma.03G002300.1', ' Glyma.03G042700.1', ' Glyma.03G109100.1', ' Glyma.03G159700.1', ' Glyma.03G176600.1', ' Glyma.03G220100.1', ' Glyma.03G220800.1', ' Glyma.03G224700.1', ' Glyma.03G256700.1', ' Glyma.04G054200.1', ' Glyma.04G061400.1', ' Glyma.04G076200.1', ' Glyma.04G115500.1', ' Glyma.04G173500.1', ' Glyma.04G218400.1', ' Glyma.04G218700.1', ' Glyma.04G223200.1', ' Glyma.04G223300.1', ' Glyma.04G238300.1', ' Glyma.05G029000.1', ' Glyma.05G096500.1', ' Glyma.05G123000.1', ' Glyma.05G123600.1', ' Glyma.05G127600.1', ' Glyma.05G160800.1', ' Glyma.05G165800.1', ' Glyma.05G184500.1', ' Glyma.05G185400.1', ' Glyma.05G203900.1', ' Glyma.05G211900.1', ' Glyma.05G215900.1', ' Glyma.06G054500.1', ' Glyma.06G061900.1', ' Glyma.06G077400.1', ' Glyma.06G125600.1', ' Glyma.06G142000.1', ' Glyma.06G142100.1', ' Glyma.06G147100.1', ' Glyma.06G147500.1', ' Glyma.06G168400.1', ' Glyma.06G190800.1', ' Glyma.06G219800.1', ' Glyma.06G242200.1', ' Glyma.06G307700.1', ' Glyma.06G320700.1', ' Glyma.07G023300.1', ' Glyma.07G057400.1', ' Glyma.07G116300.1', ' Glyma.07G133700.1', ' Glyma.07G161100.1', ' Glyma.07G227200.1', ' Glyma.07G238000.1', ' Glyma.07G262700.1', ' Glyma.08G011300.1', ' Glyma.08G018300.1', ' Glyma.08G021900.1', ' Glyma.08G078100.1', ' Glyma.08G078700.1', ' Glyma.08G082400.1', ' Glyma.08G118200.1', ' Glyma.08G142400.1', ' Glyma.08G143400.1', ' Glyma.08G218600.1', ' Glyma.08G240800.1', ' Glyma.08G320200.1', ' Glyma.08G325800.1', ' Glyma.09G005700.1', ' Glyma.09G029800.1', ' Glyma.09G034300.1', ' Glyma.09G061900.1', ' Glyma.09G080000.1', ' Glyma.09G127100.1', ' Glyma.09G129100.1', ' Glyma.09G240000.1', ' Glyma.09G244000.1', ' Glyma.09G250500.1', ' Glyma.09G254400.1', ' Glyma.09G254800.1', ' Glyma.09G274000.1', ' Glyma.09G280200.1', ' Glyma.10G011300.1', ' Glyma.10G032900.1', ' Glyma.10G111400.1', ' Glyma.10G113800.1', ' Glyma.10G138300.1', ' Glyma.10G171000.1', ' Glyma.10G171100.1', ' Glyma.10G171200.1', ' Glyma.10G230200.1', ' Glyma.11G021200.1', ' Glyma.11G053100.1', ' Glyma.11G163300.1', ' Glyma.12G097100.1', ' Glyma.12G152600.1', ' Glyma.12G212300.1', ' Glyma.13G102000.1', ' Glyma.13G117600.1', ' Glyma.13G267400.1', ' Glyma.13G267500.1', ' Glyma.13G267600.1', ' Glyma.13G267700.1', ' Glyma.13G289400.1', ' Glyma.13G310100.1', ' Glyma.13G370100.1', ' Glyma.14G006800.1', ' Glyma.14G016200.1', ' Glyma.14G028900.1', ' Glyma.14G085500.1', ' Glyma.14G102900.1', ' Glyma.14G103100.1', ' Glyma.14G135400.1', ' Glyma.14G185800.1', ' Glyma.14G186000.1', ' Glyma.14G186100.1', ' Glyma.14G199800.1', ' Glyma.14G200200.1', ' Glyma.15G003300.1', ' Glyma.15G110300.1', ' Glyma.15G135600.1', ' Glyma.15G139000.1', ' Glyma.15G168200.1', ' Glyma.15G186300.1', ' Glyma.16G026400.1', ' Glyma.16G031400.1', ' Glyma.16G031900.1', ' Glyma.16G054400.1', ' Glyma.16G176700.1', ' Glyma.16G177000.1', ' Glyma.16G219800.1', ' Glyma.17G011400.1', ' Glyma.17G035400.1', ' Glyma.17G042300.1', ' Glyma.17G057100.1', ' Glyma.17G074000.1', ' Glyma.17G097900.1', ' Glyma.17G168900.1', ' Glyma.17G197500.1', ' Glyma.17G222300.1', ' Glyma.17G222500.1', ' Glyma.17G224800.1', ' Glyma.17G239200.1', ' Glyma.18G056600.1', ' Glyma.18G081200.1', ' Glyma.18G092200.1', ' Glyma.18G124700.1', ' Glyma.18G183100.1', ' Glyma.18G208800.1', ' Glyma.18G213200.1', ' Glyma.18G238200.1', ' Glyma.18G238600.1', ' Glyma.18G242000.1', ' Glyma.18G256500.1', ' Glyma.18G263400.1', ' Glyma.19G094100.1', ' Glyma.19G177400.1', ' Glyma.19G217000.1', ' Glyma.19G217800.1', ' Glyma.19G221700.1', ' Glyma.19G254800.1', ' Glyma.20G028000.1', ' Glyma.20G030500.1', ' Glyma.20G163200.1']\n",
      "180\n"
     ]
    }
   ],
   "source": [
    "#converting fasta header into a list\n",
    "with open('fasta_headers.txt','r') as f:\n",
    "    headers = f.read()\n",
    "fasta_header_list = headers[:-2].split(',')\n",
    "print(fasta_header_list)\n",
    "print(len(fasta_header_list))"
   ]
  },
  {
   "cell_type": "code",
   "execution_count": 25,
   "metadata": {},
   "outputs": [
    {
     "name": "stdout",
     "output_type": "stream",
     "text": [
      "180\n"
     ]
    }
   ],
   "source": [
    "#fasta sequence cleaner with specific ids\n",
    "fasta_header_list_1 = [i.lstrip() for i in fasta_header_list]\n",
    "#print(fasta_header_list_1)\n",
    "count = 0\n",
    "with open ('GmWRKY_180Proteins.txt','w') as f:\n",
    "    for record in SeqIO.parse(\"GmWRKY_protein_PlantTFDB.fas\", \"fasta\"):\n",
    "        x = record.id.split(\"|\")\n",
    "        #print(x)\n",
    "        if x[0] in fasta_header_list_1:\n",
    "            record.id = x[0]\n",
    "            record.description = ''\n",
    "            SeqIO.write(record,f,'fasta')\n",
    "            count+=1\n",
    "        else:\n",
    "            continue\n",
    "        #print(record.id)\n",
    "            \n",
    "            \n",
    "print(count)"
   ]
  },
  {
   "cell_type": "code",
   "execution_count": 62,
   "metadata": {},
   "outputs": [
    {
     "name": "stdout",
     "output_type": "stream",
     "text": [
      "180\n"
     ]
    }
   ],
   "source": [
    "count = 0\n",
    "for record in SeqIO.parse(\"GmWRKY_ProteinSeq_nonredundant.txt\", \"fasta\"):\n",
    "    #print(record.id)\n",
    "    count+=1\n",
    "print(count)"
   ]
  }
 ],
 "metadata": {
  "kernelspec": {
   "display_name": "Python 3",
   "language": "python",
   "name": "python3"
  },
  "language_info": {
   "codemirror_mode": {
    "name": "ipython",
    "version": 3
   },
   "file_extension": ".py",
   "mimetype": "text/x-python",
   "name": "python",
   "nbconvert_exporter": "python",
   "pygments_lexer": "ipython3",
   "version": "3.11.0"
  }
 },
 "nbformat": 4,
 "nbformat_minor": 2
}
