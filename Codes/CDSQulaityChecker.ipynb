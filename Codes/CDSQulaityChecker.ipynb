{
 "cells": [
  {
   "cell_type": "code",
   "execution_count": 27,
   "metadata": {},
   "outputs": [],
   "source": [
    "from Bio.Seq import Seq\n",
    "from Bio import SeqIO\n",
    "from Bio.SeqRecord import SeqRecord\n",
    "import numpy as np"
   ]
  },
  {
   "cell_type": "code",
   "execution_count": 28,
   "metadata": {},
   "outputs": [
    {
     "name": "stdout",
     "output_type": "stream",
     "text": [
      "180\n"
     ]
    }
   ],
   "source": [
    "#check total number of sequeces retrieved\n",
    "ids = []\n",
    "for record in SeqIO.parse('wrky.fasta','fasta'):\n",
    "    ids.append(record.id)\n",
    "print(len(ids))"
   ]
  },
  {
   "cell_type": "code",
   "execution_count": 29,
   "metadata": {},
   "outputs": [],
   "source": [
    "def is_valid_cds(cds):\n",
    "    \"\"\"Check if a sequence meets the six quality criteria.\"\"\"\n",
    "    return (cds.startswith(\"ATG\") and cds.endswith((\"TAA\", \"TAG\", \"TGA\")) \n",
    "            and len(cds) % 3 == 0 and len(cds) >= 300 \n",
    "            and \"TAA\" not in cds[3:-3] and \"TAG\" not in cds[3:-3] and \"TGA\" not in cds[3:-3]\n",
    "            and all(nuc in \"ATGC\" for nuc in cds))\n",
    "\n",
    "def filter_sequences(sequences):\n",
    "    \"\"\"Filter sequences that pass the quality check.\"\"\"\n",
    "    return [seq for seq in sequences if is_valid_cds(str(seq.seq))]\n",
    "\n",
    "def detect_length_outliers(sequences):\n",
    "    \"\"\"Detect outliers in sequence length using IQR.\"\"\"\n",
    "    if len(sequences) == 0:\n",
    "        return []\n",
    "    \n",
    "    lengths = np.array([len(seq) for seq in sequences])\n",
    "    q1, q3 = np.percentile(lengths, [25, 75])\n",
    "    iqr = q3 - q1\n",
    "    lower_bound = q1 - 1.5 * iqr\n",
    "    upper_bound = q3 + 1.5 * iqr\n",
    "    return [seq for seq, length in zip(sequences, lengths) if length < lower_bound or length > upper_bound]\n",
    "\n",
    "def write_fasta(sequences, filename):\n",
    "    \"\"\"Write valid sequences to a FASTA file.\"\"\"\n",
    "    SeqIO.write(sequences, filename, \"fasta\")"
   ]
  },
  {
   "cell_type": "code",
   "execution_count": 30,
   "metadata": {},
   "outputs": [],
   "source": [
    "# Load sequences from a FASTA file\n",
    "sequences = list(SeqIO.parse(\"wrky.fasta\", \"fasta\"))"
   ]
  },
  {
   "cell_type": "code",
   "execution_count": 31,
   "metadata": {},
   "outputs": [],
   "source": [
    "# Perform filtering and outlier detection\n",
    "filtered_sequences = filter_sequences(sequences)"
   ]
  },
  {
   "cell_type": "code",
   "execution_count": 32,
   "metadata": {},
   "outputs": [],
   "source": [
    "# Check if any valid sequences exist before detecting outliers\n",
    "if len(filtered_sequences) > 0:\n",
    "    outliers = detect_length_outliers(filtered_sequences)\n",
    "else:\n",
    "    outliers = []"
   ]
  },
  {
   "cell_type": "code",
   "execution_count": 33,
   "metadata": {},
   "outputs": [],
   "source": [
    "# Sequences that failed the quality check\n",
    "discarded_sequences_count = len(sequences) - len(filtered_sequences)\n",
    "\n",
    "# Write valid sequences to a new FASTA file\n",
    "write_fasta(filtered_sequences, \"GmWRKY.fasta\")"
   ]
  },
  {
   "cell_type": "code",
   "execution_count": 34,
   "metadata": {},
   "outputs": [
    {
     "name": "stdout",
     "output_type": "stream",
     "text": [
      "Total sequences processed: 180\n",
      "Valid sequences: 0\n",
      "Length outliers: 0\n",
      "Discarded sequences (due to failing quality checks): 180\n"
     ]
    }
   ],
   "source": [
    "# Print summary\n",
    "print(f\"Total sequences processed: {len(sequences)}\")\n",
    "print(f\"Valid sequences: {len(filtered_sequences)}\")\n",
    "print(f\"Length outliers: {len(outliers)}\")\n",
    "print(f\"Discarded sequences (due to failing quality checks): {discarded_sequences_count}\")"
   ]
  }
 ],
 "metadata": {
  "kernelspec": {
   "display_name": "Python 3",
   "language": "python",
   "name": "python3"
  },
  "language_info": {
   "codemirror_mode": {
    "name": "ipython",
    "version": 3
   },
   "file_extension": ".py",
   "mimetype": "text/x-python",
   "name": "python",
   "nbconvert_exporter": "python",
   "pygments_lexer": "ipython3",
   "version": "3.11.0"
  }
 },
 "nbformat": 4,
 "nbformat_minor": 2
}
